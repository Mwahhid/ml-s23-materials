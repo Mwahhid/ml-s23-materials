{
 "cells": [
  {
   "cell_type": "code",
   "execution_count": null,
   "id": "60f3679e-7922-41ed-8e23-7b7048f4a5d2",
   "metadata": {},
   "outputs": [],
   "source": [
    "import numpy as np"
   ]
  },
  {
   "cell_type": "code",
   "execution_count": null,
   "id": "02ede6f8-2448-426f-b7d4-3ae967ce07ec",
   "metadata": {},
   "outputs": [],
   "source": [
    "x = np.array([1, .02, .03, .04])\n",
    "w1_1 = np.array([.1, .2, .3, .4])\n",
    "w1_1 = np.array([])"
   ]
  },
  {
   "cell_type": "code",
   "execution_count": null,
   "id": "61cda109-146d-4d2f-8f6f-f9533c55098d",
   "metadata": {},
   "outputs": [],
   "source": [
    "def sigmoid(z)\n",
    "    return 1/(1 + np.(-z))"
   ]
  },
  {
   "cell_type": "code",
   "execution_count": null,
   "id": "1b82dab1-c128-4bfd-9e36-28b3ce761860",
   "metadata": {},
   "outputs": [],
   "source": [
    "sigmoid(np.array([1, 2])"
   ]
  },
  {
   "cell_type": "code",
   "execution_count": null,
   "id": "316e9849-63bb-44f2-9aa1-1e1d42483b53",
   "metadata": {},
   "outputs": [],
   "source": [
    "a0 = x\n",
    "a1_1 = sigmoid(np.dot(w1_1, a0))\n",
    "a1_2 = sigmoid(np.dot(w1_2, a0))\n",
    "a1_3 = sigmoid(np.dot(w1_3, a0))\n"
   ]
  },
  {
   "cell_type": "code",
   "execution_count": null,
   "id": "5b2556b4-b1fe-4ba6-a467-50490006d2a1",
   "metadata": {},
   "outputs": [],
   "source": [
    "a2_1 = sigmoid(np.dot(w2_1, a1))"
   ]
  },
  {
   "cell_type": "code",
   "execution_count": null,
   "id": "fc8591dd-775b-44df-860d-7bf2daed47e3",
   "metadata": {},
   "outputs": [],
   "source": [
    "w1 = np.array([w1_1, w2_1, w3_1])"
   ]
  },
  {
   "cell_type": "code",
   "execution_count": null,
   "id": "915b0c1f-a65d-49e8-9db2-7296a92d61ad",
   "metadata": {},
   "outputs": [],
   "source": [
    "sigmoid(w1 @ a0)"
   ]
  }
 ],
 "metadata": {
  "kernelspec": {
   "display_name": "Python 3 (ipykernel)",
   "language": "python",
   "name": "python3"
  },
  "language_info": {
   "codemirror_mode": {
    "name": "ipython",
    "version": 3
   },
   "file_extension": ".py",
   "mimetype": "text/x-python",
   "name": "python",
   "nbconvert_exporter": "python",
   "pygments_lexer": "ipython3",
   "version": "3.8.15"
  }
 },
 "nbformat": 4,
 "nbformat_minor": 5
}
